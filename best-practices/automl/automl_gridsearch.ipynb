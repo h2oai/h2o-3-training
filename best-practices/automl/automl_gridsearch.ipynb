{
 "cells": [
  {
   "cell_type": "markdown",
   "metadata": {},
   "source": [
    "# AutoML Grid Search\n",
    "\n",
    "This notebook shows the grid searches that are performed in AutoML.\n",
    "\n",
    "AutoML constructs models for each algorithm in two steps: \n",
    "\n",
    "1. Train models with parameters that have been found to work well most of the time.\n",
    "2. Run grid search over parameters that have been found to have large impact on performance.\n",
    "\n",
    "The reason behind the two step approach is to create good models as fast as possible.  Step 1 should generate a very good baseline.  The grid search that follows can then improve upon step 1 if more time is available."
   ]
  },
  {
   "cell_type": "code",
   "execution_count": 1,
   "metadata": {},
   "outputs": [
    {
     "name": "stdout",
     "output_type": "stream",
     "text": [
      "Checking whether there is an H2O instance running at http://localhost:54321 ..... not found.\n",
      "Attempting to start a local H2O server...\n",
      "  Java Version: java version \"12.0.2\" 2019-07-16; Java(TM) SE Runtime Environment (build 12.0.2+10); Java HotSpot(TM) 64-Bit Server VM (build 12.0.2+10, mixed mode, sharing)\n",
      "  Starting server from /Users/megankurka/env2/lib/python3.6/site-packages/h2o/backend/bin/h2o.jar\n",
      "  Ice root: /var/folders/fk/z2fjbsq163scfcsq9fhsw7r00000gn/T/tmpwe82ymwi\n",
      "  JVM stdout: /var/folders/fk/z2fjbsq163scfcsq9fhsw7r00000gn/T/tmpwe82ymwi/h2o_megankurka_started_from_python.out\n",
      "  JVM stderr: /var/folders/fk/z2fjbsq163scfcsq9fhsw7r00000gn/T/tmpwe82ymwi/h2o_megankurka_started_from_python.err\n",
      "  Server is running at http://127.0.0.1:54321\n",
      "Connecting to H2O server at http://127.0.0.1:54321 ... successful.\n"
     ]
    },
    {
     "data": {
      "text/html": [
       "<div style=\"overflow:auto\"><table style=\"width:50%\"><tr><td>H2O_cluster_uptime:</td>\n",
       "<td>01 secs</td></tr>\n",
       "<tr><td>H2O_cluster_timezone:</td>\n",
       "<td>America/New_York</td></tr>\n",
       "<tr><td>H2O_data_parsing_timezone:</td>\n",
       "<td>UTC</td></tr>\n",
       "<tr><td>H2O_cluster_version:</td>\n",
       "<td>3.30.0.4</td></tr>\n",
       "<tr><td>H2O_cluster_version_age:</td>\n",
       "<td>24 days </td></tr>\n",
       "<tr><td>H2O_cluster_name:</td>\n",
       "<td>H2O_from_python_megankurka_rdmonj</td></tr>\n",
       "<tr><td>H2O_cluster_total_nodes:</td>\n",
       "<td>1</td></tr>\n",
       "<tr><td>H2O_cluster_free_memory:</td>\n",
       "<td>4 Gb</td></tr>\n",
       "<tr><td>H2O_cluster_total_cores:</td>\n",
       "<td>16</td></tr>\n",
       "<tr><td>H2O_cluster_allowed_cores:</td>\n",
       "<td>16</td></tr>\n",
       "<tr><td>H2O_cluster_status:</td>\n",
       "<td>accepting new members, healthy</td></tr>\n",
       "<tr><td>H2O_connection_url:</td>\n",
       "<td>http://127.0.0.1:54321</td></tr>\n",
       "<tr><td>H2O_connection_proxy:</td>\n",
       "<td>{\"http\": null, \"https\": null}</td></tr>\n",
       "<tr><td>H2O_internal_security:</td>\n",
       "<td>False</td></tr>\n",
       "<tr><td>H2O_API_Extensions:</td>\n",
       "<td>Amazon S3, XGBoost, Algos, AutoML, Core V3, TargetEncoder, Core V4</td></tr>\n",
       "<tr><td>Python_version:</td>\n",
       "<td>3.6.8 final</td></tr></table></div>"
      ],
      "text/plain": [
       "--------------------------  ------------------------------------------------------------------\n",
       "H2O_cluster_uptime:         01 secs\n",
       "H2O_cluster_timezone:       America/New_York\n",
       "H2O_data_parsing_timezone:  UTC\n",
       "H2O_cluster_version:        3.30.0.4\n",
       "H2O_cluster_version_age:    24 days\n",
       "H2O_cluster_name:           H2O_from_python_megankurka_rdmonj\n",
       "H2O_cluster_total_nodes:    1\n",
       "H2O_cluster_free_memory:    4 Gb\n",
       "H2O_cluster_total_cores:    16\n",
       "H2O_cluster_allowed_cores:  16\n",
       "H2O_cluster_status:         accepting new members, healthy\n",
       "H2O_connection_url:         http://127.0.0.1:54321\n",
       "H2O_connection_proxy:       {\"http\": null, \"https\": null}\n",
       "H2O_internal_security:      False\n",
       "H2O_API_Extensions:         Amazon S3, XGBoost, Algos, AutoML, Core V3, TargetEncoder, Core V4\n",
       "Python_version:             3.6.8 final\n",
       "--------------------------  ------------------------------------------------------------------"
      ]
     },
     "metadata": {},
     "output_type": "display_data"
    }
   ],
   "source": [
    "import h2o\n",
    "h2o.init()"
   ]
  },
  {
   "cell_type": "code",
   "execution_count": 2,
   "metadata": {},
   "outputs": [
    {
     "name": "stdout",
     "output_type": "stream",
     "text": [
      "Parse progress: |█████████████████████████████████████████████████████████| 100%\n"
     ]
    }
   ],
   "source": [
    "df = h2o.import_file(\"https://s3.amazonaws.com/h2o-public-test-data/smalldata/demos/bank-additional-full.csv\")"
   ]
  },
  {
   "cell_type": "code",
   "execution_count": 3,
   "metadata": {},
   "outputs": [
    {
     "data": {
      "text/html": [
       "<table>\n",
       "<thead>\n",
       "<tr><th style=\"text-align: right;\">  age</th><th>job        </th><th>marital  </th><th>education          </th><th>default  </th><th>housing  </th><th>loan  </th><th>contact  </th><th>month  </th><th>day_of_week  </th><th style=\"text-align: right;\">  duration</th><th style=\"text-align: right;\">  campaign</th><th style=\"text-align: right;\">  pdays</th><th style=\"text-align: right;\">  previous</th><th>poutcome   </th><th style=\"text-align: right;\">  emp.var.rate</th><th style=\"text-align: right;\">  cons.price.idx</th><th style=\"text-align: right;\">  cons.conf.idx</th><th style=\"text-align: right;\">  euribor3m</th><th style=\"text-align: right;\">  nr.employed</th><th>y  </th></tr>\n",
       "</thead>\n",
       "<tbody>\n",
       "<tr><td style=\"text-align: right;\">   56</td><td>housemaid  </td><td>married  </td><td>basic.4y           </td><td>no       </td><td>no       </td><td>no    </td><td>telephone</td><td>may    </td><td>mon          </td><td style=\"text-align: right;\">       261</td><td style=\"text-align: right;\">         1</td><td style=\"text-align: right;\">    999</td><td style=\"text-align: right;\">         0</td><td>nonexistent</td><td style=\"text-align: right;\">           1.1</td><td style=\"text-align: right;\">          93.994</td><td style=\"text-align: right;\">          -36.4</td><td style=\"text-align: right;\">      4.857</td><td style=\"text-align: right;\">         5191</td><td>no </td></tr>\n",
       "<tr><td style=\"text-align: right;\">   57</td><td>services   </td><td>married  </td><td>high.school        </td><td>unknown  </td><td>no       </td><td>no    </td><td>telephone</td><td>may    </td><td>mon          </td><td style=\"text-align: right;\">       149</td><td style=\"text-align: right;\">         1</td><td style=\"text-align: right;\">    999</td><td style=\"text-align: right;\">         0</td><td>nonexistent</td><td style=\"text-align: right;\">           1.1</td><td style=\"text-align: right;\">          93.994</td><td style=\"text-align: right;\">          -36.4</td><td style=\"text-align: right;\">      4.857</td><td style=\"text-align: right;\">         5191</td><td>no </td></tr>\n",
       "<tr><td style=\"text-align: right;\">   37</td><td>services   </td><td>married  </td><td>high.school        </td><td>no       </td><td>yes      </td><td>no    </td><td>telephone</td><td>may    </td><td>mon          </td><td style=\"text-align: right;\">       226</td><td style=\"text-align: right;\">         1</td><td style=\"text-align: right;\">    999</td><td style=\"text-align: right;\">         0</td><td>nonexistent</td><td style=\"text-align: right;\">           1.1</td><td style=\"text-align: right;\">          93.994</td><td style=\"text-align: right;\">          -36.4</td><td style=\"text-align: right;\">      4.857</td><td style=\"text-align: right;\">         5191</td><td>no </td></tr>\n",
       "<tr><td style=\"text-align: right;\">   40</td><td>admin.     </td><td>married  </td><td>basic.6y           </td><td>no       </td><td>no       </td><td>no    </td><td>telephone</td><td>may    </td><td>mon          </td><td style=\"text-align: right;\">       151</td><td style=\"text-align: right;\">         1</td><td style=\"text-align: right;\">    999</td><td style=\"text-align: right;\">         0</td><td>nonexistent</td><td style=\"text-align: right;\">           1.1</td><td style=\"text-align: right;\">          93.994</td><td style=\"text-align: right;\">          -36.4</td><td style=\"text-align: right;\">      4.857</td><td style=\"text-align: right;\">         5191</td><td>no </td></tr>\n",
       "<tr><td style=\"text-align: right;\">   56</td><td>services   </td><td>married  </td><td>high.school        </td><td>no       </td><td>no       </td><td>yes   </td><td>telephone</td><td>may    </td><td>mon          </td><td style=\"text-align: right;\">       307</td><td style=\"text-align: right;\">         1</td><td style=\"text-align: right;\">    999</td><td style=\"text-align: right;\">         0</td><td>nonexistent</td><td style=\"text-align: right;\">           1.1</td><td style=\"text-align: right;\">          93.994</td><td style=\"text-align: right;\">          -36.4</td><td style=\"text-align: right;\">      4.857</td><td style=\"text-align: right;\">         5191</td><td>no </td></tr>\n",
       "<tr><td style=\"text-align: right;\">   45</td><td>services   </td><td>married  </td><td>basic.9y           </td><td>unknown  </td><td>no       </td><td>no    </td><td>telephone</td><td>may    </td><td>mon          </td><td style=\"text-align: right;\">       198</td><td style=\"text-align: right;\">         1</td><td style=\"text-align: right;\">    999</td><td style=\"text-align: right;\">         0</td><td>nonexistent</td><td style=\"text-align: right;\">           1.1</td><td style=\"text-align: right;\">          93.994</td><td style=\"text-align: right;\">          -36.4</td><td style=\"text-align: right;\">      4.857</td><td style=\"text-align: right;\">         5191</td><td>no </td></tr>\n",
       "<tr><td style=\"text-align: right;\">   59</td><td>admin.     </td><td>married  </td><td>professional.course</td><td>no       </td><td>no       </td><td>no    </td><td>telephone</td><td>may    </td><td>mon          </td><td style=\"text-align: right;\">       139</td><td style=\"text-align: right;\">         1</td><td style=\"text-align: right;\">    999</td><td style=\"text-align: right;\">         0</td><td>nonexistent</td><td style=\"text-align: right;\">           1.1</td><td style=\"text-align: right;\">          93.994</td><td style=\"text-align: right;\">          -36.4</td><td style=\"text-align: right;\">      4.857</td><td style=\"text-align: right;\">         5191</td><td>no </td></tr>\n",
       "<tr><td style=\"text-align: right;\">   41</td><td>blue-collar</td><td>married  </td><td>unknown            </td><td>unknown  </td><td>no       </td><td>no    </td><td>telephone</td><td>may    </td><td>mon          </td><td style=\"text-align: right;\">       217</td><td style=\"text-align: right;\">         1</td><td style=\"text-align: right;\">    999</td><td style=\"text-align: right;\">         0</td><td>nonexistent</td><td style=\"text-align: right;\">           1.1</td><td style=\"text-align: right;\">          93.994</td><td style=\"text-align: right;\">          -36.4</td><td style=\"text-align: right;\">      4.857</td><td style=\"text-align: right;\">         5191</td><td>no </td></tr>\n",
       "<tr><td style=\"text-align: right;\">   24</td><td>technician </td><td>single   </td><td>professional.course</td><td>no       </td><td>yes      </td><td>no    </td><td>telephone</td><td>may    </td><td>mon          </td><td style=\"text-align: right;\">       380</td><td style=\"text-align: right;\">         1</td><td style=\"text-align: right;\">    999</td><td style=\"text-align: right;\">         0</td><td>nonexistent</td><td style=\"text-align: right;\">           1.1</td><td style=\"text-align: right;\">          93.994</td><td style=\"text-align: right;\">          -36.4</td><td style=\"text-align: right;\">      4.857</td><td style=\"text-align: right;\">         5191</td><td>no </td></tr>\n",
       "<tr><td style=\"text-align: right;\">   25</td><td>services   </td><td>single   </td><td>high.school        </td><td>no       </td><td>yes      </td><td>no    </td><td>telephone</td><td>may    </td><td>mon          </td><td style=\"text-align: right;\">        50</td><td style=\"text-align: right;\">         1</td><td style=\"text-align: right;\">    999</td><td style=\"text-align: right;\">         0</td><td>nonexistent</td><td style=\"text-align: right;\">           1.1</td><td style=\"text-align: right;\">          93.994</td><td style=\"text-align: right;\">          -36.4</td><td style=\"text-align: right;\">      4.857</td><td style=\"text-align: right;\">         5191</td><td>no </td></tr>\n",
       "</tbody>\n",
       "</table>"
      ]
     },
     "metadata": {},
     "output_type": "display_data"
    },
    {
     "data": {
      "text/plain": []
     },
     "execution_count": 3,
     "metadata": {},
     "output_type": "execute_result"
    }
   ],
   "source": [
    "df.head()"
   ]
  },
  {
   "cell_type": "code",
   "execution_count": 4,
   "metadata": {},
   "outputs": [],
   "source": [
    "train, valid = df.split_frame(seed = 1234)"
   ]
  },
  {
   "cell_type": "markdown",
   "metadata": {},
   "source": [
    "Set parameters for the grid search."
   ]
  },
  {
   "cell_type": "code",
   "execution_count": 5,
   "metadata": {},
   "outputs": [],
   "source": [
    "nfolds = 3\n",
    "seed = 1234\n",
    "target_col = \"y\"\n",
    "x = [i for i in train.col_names if i != target_col]\n",
    "search_criteria = {'max_models': 5, 'seed': seed, 'strategy': \"RandomDiscrete\"}"
   ]
  },
  {
   "cell_type": "markdown",
   "metadata": {},
   "source": [
    "## GBM"
   ]
  },
  {
   "cell_type": "code",
   "execution_count": 6,
   "metadata": {},
   "outputs": [],
   "source": [
    "from h2o.estimators.gbm import H2OGradientBoostingEstimator\n",
    "import copy"
   ]
  },
  {
   "cell_type": "markdown",
   "metadata": {},
   "source": [
    "Step 1: Train best guess models."
   ]
  },
  {
   "cell_type": "code",
   "execution_count": 7,
   "metadata": {},
   "outputs": [],
   "source": [
    "default_gbm_params = {\n",
    "    'score_tree_interval': 5,\n",
    "    'ntrees': 10000,\n",
    "    'sample_rate': 0.8,\n",
    "    'col_sample_rate': 0.8,\n",
    "    'col_sample_rate_per_tree': 0.8\n",
    "}"
   ]
  },
  {
   "cell_type": "code",
   "execution_count": 8,
   "metadata": {},
   "outputs": [
    {
     "name": "stdout",
     "output_type": "stream",
     "text": [
      "gbm Model Build progress: |███████████████████████████████████████████████| 100%\n",
      "gbm Model Build progress: |███████████████████████████████████████████████| 100%\n",
      "gbm Model Build progress: |███████████████████████████████████████████████| 100%\n",
      "gbm Model Build progress: |███████████████████████████████████████████████| 100%\n",
      "gbm Model Build progress: |███████████████████████████████████████████████| 100%\n"
     ]
    }
   ],
   "source": [
    "best_guess_params = [{'max_depth': 6, 'min_rows': 1},\n",
    "                     {'max_depth': 7, 'min_rows': 10},\n",
    "                     {'max_depth': 8, 'min_rows': 10},\n",
    "                     {'max_depth': 10, 'min_rows': 10},\n",
    "                     {'max_depth': 15, 'min_rows': 100},\n",
    "                    ]\n",
    "\n",
    "best_guess_gbms = []\n",
    "for i in best_guess_params:\n",
    "    \n",
    "    model_params = copy.deepcopy(default_gbm_params)\n",
    "    for k, v in i.items():\n",
    "        model_params[k] = v\n",
    "    gbm = H2OGradientBoostingEstimator(nfolds=nfolds, seed=seed,\n",
    "                                       **model_params\n",
    "                                      )\n",
    "    gbm.train(training_frame=train, validation_frame=valid, y=target_col, x=x)\n",
    "    best_guess_gbms = best_guess_gbms + [gbm]"
   ]
  },
  {
   "cell_type": "markdown",
   "metadata": {},
   "source": [
    "Step 2: Train grid search."
   ]
  },
  {
   "cell_type": "code",
   "execution_count": 9,
   "metadata": {},
   "outputs": [],
   "source": [
    "from h2o.grid import H2OGridSearch"
   ]
  },
  {
   "cell_type": "code",
   "execution_count": 10,
   "metadata": {},
   "outputs": [],
   "source": [
    "gbm_search_params = {'max_depth': [3, 4, 5, 6, 7, 8, 9, 10, 11, 12, 13, 14, 15, 16, 17],\n",
    "                     'min_rows': [1, 5, 10, 15, 30, 100],\n",
    "                     'sample_rate': [0.50, 0.60, 0.70, 0.80, 0.90, 1.00],\n",
    "                     'col_sample_rate': [0.4, 0.7, 1.0],\n",
    "                     'col_sample_rate_per_tree': [0.4, 0.7, 1.0],\n",
    "                     'min_split_improvement': [1e-4, 1e-5]\n",
    "                    }"
   ]
  },
  {
   "cell_type": "code",
   "execution_count": 11,
   "metadata": {},
   "outputs": [],
   "source": [
    "# remove parameters that are being searched from the default dictionary\n",
    "for k in gbm_search_params.keys():\n",
    "    default_gbm_params.pop(k, None)"
   ]
  },
  {
   "cell_type": "code",
   "execution_count": 12,
   "metadata": {},
   "outputs": [
    {
     "name": "stdout",
     "output_type": "stream",
     "text": [
      "gbm Grid Build progress: |████████████████████████████████████████████████| 100%\n"
     ]
    }
   ],
   "source": [
    "gbm_grid = H2OGridSearch(model=H2OGradientBoostingEstimator,\n",
    "                         grid_id='gbm_grid',\n",
    "                         search_criteria=search_criteria,\n",
    "                         hyper_params=gbm_search_params)\n",
    "gbm_grid.train(x=x, y=target_col,\n",
    "               training_frame=train,\n",
    "               validation_frame=valid,\n",
    "               nfolds=nfolds,\n",
    "               seed=seed,\n",
    "               **default_gbm_params)"
   ]
  },
  {
   "cell_type": "code",
   "execution_count": 13,
   "metadata": {},
   "outputs": [],
   "source": [
    "all_gbm_models = best_guess_gbms + [h2o.get_model(id) for id in gbm_grid.get_grid().model_ids]"
   ]
  },
  {
   "cell_type": "code",
   "execution_count": 14,
   "metadata": {
    "scrolled": false
   },
   "outputs": [
    {
     "data": {
      "text/html": [
       "<div>\n",
       "<style scoped>\n",
       "    .dataframe tbody tr th:only-of-type {\n",
       "        vertical-align: middle;\n",
       "    }\n",
       "\n",
       "    .dataframe tbody tr th {\n",
       "        vertical-align: top;\n",
       "    }\n",
       "\n",
       "    .dataframe thead th {\n",
       "        text-align: right;\n",
       "    }\n",
       "</style>\n",
       "<table border=\"1\" class=\"dataframe\">\n",
       "  <thead>\n",
       "    <tr style=\"text-align: right;\">\n",
       "      <th></th>\n",
       "      <th>0</th>\n",
       "    </tr>\n",
       "  </thead>\n",
       "  <tbody>\n",
       "    <tr>\n",
       "      <th>gbm_grid_model_4</th>\n",
       "      <td>0.122202</td>\n",
       "    </tr>\n",
       "    <tr>\n",
       "      <th>gbm_grid_model_2</th>\n",
       "      <td>0.128433</td>\n",
       "    </tr>\n",
       "    <tr>\n",
       "      <th>GBM_model_python_1593132904195_85</th>\n",
       "      <td>0.143117</td>\n",
       "    </tr>\n",
       "    <tr>\n",
       "      <th>gbm_grid_model_1</th>\n",
       "      <td>0.143567</td>\n",
       "    </tr>\n",
       "    <tr>\n",
       "      <th>GBM_model_python_1593132904195_22</th>\n",
       "      <td>0.143732</td>\n",
       "    </tr>\n",
       "    <tr>\n",
       "      <th>GBM_model_python_1593132904195_1</th>\n",
       "      <td>0.143763</td>\n",
       "    </tr>\n",
       "    <tr>\n",
       "      <th>GBM_model_python_1593132904195_43</th>\n",
       "      <td>0.144601</td>\n",
       "    </tr>\n",
       "    <tr>\n",
       "      <th>GBM_model_python_1593132904195_64</th>\n",
       "      <td>0.144904</td>\n",
       "    </tr>\n",
       "    <tr>\n",
       "      <th>gbm_grid_model_5</th>\n",
       "      <td>0.157180</td>\n",
       "    </tr>\n",
       "    <tr>\n",
       "      <th>gbm_grid_model_3</th>\n",
       "      <td>0.157957</td>\n",
       "    </tr>\n",
       "  </tbody>\n",
       "</table>\n",
       "</div>"
      ],
      "text/plain": [
       "                                          0\n",
       "gbm_grid_model_4                   0.122202\n",
       "gbm_grid_model_2                   0.128433\n",
       "GBM_model_python_1593132904195_85  0.143117\n",
       "gbm_grid_model_1                   0.143567\n",
       "GBM_model_python_1593132904195_22  0.143732\n",
       "GBM_model_python_1593132904195_1   0.143763\n",
       "GBM_model_python_1593132904195_43  0.144601\n",
       "GBM_model_python_1593132904195_64  0.144904\n",
       "gbm_grid_model_5                   0.157180\n",
       "gbm_grid_model_3                   0.157957"
      ]
     },
     "execution_count": 14,
     "metadata": {},
     "output_type": "execute_result"
    }
   ],
   "source": [
    "import pandas as pd\n",
    "\n",
    "gbm_perf = pd.DataFrame.from_dict({x.model_id: x.logloss(valid = True) for x in all_gbm_models},\n",
    "                                 orient = \"index\")\n",
    "gbm_perf.sort_values(by = 0)"
   ]
  },
  {
   "cell_type": "markdown",
   "metadata": {},
   "source": [
    "## XGBoost"
   ]
  },
  {
   "cell_type": "code",
   "execution_count": 15,
   "metadata": {},
   "outputs": [],
   "source": [
    "from h2o.estimators.xgboost import H2OXGBoostEstimator"
   ]
  },
  {
   "cell_type": "markdown",
   "metadata": {},
   "source": [
    "Step 1: Train best guess models."
   ]
  },
  {
   "cell_type": "code",
   "execution_count": 16,
   "metadata": {},
   "outputs": [],
   "source": [
    "default_xgb_params = {\n",
    "    'score_tree_interval': 5,\n",
    "    'ntrees': 10000,\n",
    "    'col_sample_rate': 0.8,\n",
    "    'col_sample_rate_per_tree': 0.8\n",
    "}"
   ]
  },
  {
   "cell_type": "code",
   "execution_count": 17,
   "metadata": {},
   "outputs": [
    {
     "name": "stdout",
     "output_type": "stream",
     "text": [
      "xgboost Model Build progress: |███████████████████████████████████████████| 100%\n",
      "xgboost Model Build progress: |███████████████████████████████████████████| 100%\n",
      "xgboost Model Build progress: |███████████████████████████████████████████| 100%\n"
     ]
    }
   ],
   "source": [
    "best_guess_params = [{'max_depth': 10, 'min_rows': 5, 'sample_rate': 0.6},\n",
    "                     {'max_depth': 20, 'min_rows': 10, 'sample_rate': 0.6},\n",
    "                     {'max_depth': 5, 'min_rows': 3, 'sample_rate': 0.8},\n",
    "                    ]\n",
    "\n",
    "best_guess_xgbs = []\n",
    "for i in best_guess_params:\n",
    "    \n",
    "    model_params = copy.deepcopy(default_xgb_params)\n",
    "    for k, v in i.items():\n",
    "        model_params[k] = v\n",
    "    xgb = H2OXGBoostEstimator(nfolds=nfolds, seed=seed,\n",
    "                              **model_params\n",
    "                             )\n",
    "    xgb.train(training_frame=train, validation_frame=valid, y=target_col, x=x)\n",
    "    best_guess_xgbs = best_guess_xgbs + [xgb]"
   ]
  },
  {
   "cell_type": "markdown",
   "metadata": {},
   "source": [
    "Step 2: Train grid search."
   ]
  },
  {
   "cell_type": "code",
   "execution_count": 18,
   "metadata": {},
   "outputs": [],
   "source": [
    "xgb_search_params = {'max_depth': [5, 10, 15, 20],\n",
    "                     'min_rows': [0.01, 0.1, 1.0, 3.0, 5.0, 10.0, 15.0, 20.0],\n",
    "                     'sample_rate': [0.6, 0.8, 1.0],\n",
    "                     'col_sample_rate': [0.6, 0.8, 1.0],\n",
    "                     'col_sample_rate_per_tree': [0.7, 0.8, 0.9, 1.0],\n",
    "                     'reg_lambda': [0.001, 0.01, 0.1, 1, 10, 100],\n",
    "                     'reg_alpha': [0.001, 0.01, 0.1, 0.5, 1]\n",
    "                    }"
   ]
  },
  {
   "cell_type": "code",
   "execution_count": 19,
   "metadata": {},
   "outputs": [],
   "source": [
    "# remove parameters that are being searched from the default dictionary\n",
    "for k in xgb_search_params.keys():\n",
    "    default_xgb_params.pop(k, None)"
   ]
  },
  {
   "cell_type": "code",
   "execution_count": 20,
   "metadata": {},
   "outputs": [
    {
     "name": "stdout",
     "output_type": "stream",
     "text": [
      "xgboost Grid Build progress: |████████████████████████████████████████████| 100%\n"
     ]
    }
   ],
   "source": [
    "xgb_grid = H2OGridSearch(model=H2OXGBoostEstimator,\n",
    "                         grid_id='xgb_grid',\n",
    "                         search_criteria=search_criteria,\n",
    "                         hyper_params=xgb_search_params)\n",
    "xgb_grid.train(x=x, y=target_col,\n",
    "               training_frame=train,\n",
    "               validation_frame=valid,\n",
    "               nfolds=nfolds,\n",
    "               seed=seed,\n",
    "               **default_xgb_params)"
   ]
  },
  {
   "cell_type": "code",
   "execution_count": 21,
   "metadata": {},
   "outputs": [],
   "source": [
    "all_xgb_models = best_guess_xgbs + [h2o.get_model(id) for id in xgb_grid.get_grid().model_ids]"
   ]
  },
  {
   "cell_type": "code",
   "execution_count": 22,
   "metadata": {
    "scrolled": false
   },
   "outputs": [
    {
     "data": {
      "text/html": [
       "<div>\n",
       "<style scoped>\n",
       "    .dataframe tbody tr th:only-of-type {\n",
       "        vertical-align: middle;\n",
       "    }\n",
       "\n",
       "    .dataframe tbody tr th {\n",
       "        vertical-align: top;\n",
       "    }\n",
       "\n",
       "    .dataframe thead th {\n",
       "        text-align: right;\n",
       "    }\n",
       "</style>\n",
       "<table border=\"1\" class=\"dataframe\">\n",
       "  <thead>\n",
       "    <tr style=\"text-align: right;\">\n",
       "      <th></th>\n",
       "      <th>0</th>\n",
       "    </tr>\n",
       "  </thead>\n",
       "  <tbody>\n",
       "    <tr>\n",
       "      <th>XGBoost_model_python_1593132904195_248</th>\n",
       "      <td>0.177674</td>\n",
       "    </tr>\n",
       "    <tr>\n",
       "      <th>XGBoost_model_python_1593132904195_227</th>\n",
       "      <td>0.178219</td>\n",
       "    </tr>\n",
       "    <tr>\n",
       "      <th>XGBoost_model_python_1593132904195_206</th>\n",
       "      <td>0.178755</td>\n",
       "    </tr>\n",
       "    <tr>\n",
       "      <th>xgb_grid_model_3</th>\n",
       "      <td>0.179315</td>\n",
       "    </tr>\n",
       "    <tr>\n",
       "      <th>xgb_grid_model_2</th>\n",
       "      <td>0.182802</td>\n",
       "    </tr>\n",
       "    <tr>\n",
       "      <th>xgb_grid_model_5</th>\n",
       "      <td>0.183267</td>\n",
       "    </tr>\n",
       "    <tr>\n",
       "      <th>xgb_grid_model_1</th>\n",
       "      <td>0.186752</td>\n",
       "    </tr>\n",
       "    <tr>\n",
       "      <th>xgb_grid_model_4</th>\n",
       "      <td>0.187953</td>\n",
       "    </tr>\n",
       "  </tbody>\n",
       "</table>\n",
       "</div>"
      ],
      "text/plain": [
       "                                               0\n",
       "XGBoost_model_python_1593132904195_248  0.177674\n",
       "XGBoost_model_python_1593132904195_227  0.178219\n",
       "XGBoost_model_python_1593132904195_206  0.178755\n",
       "xgb_grid_model_3                        0.179315\n",
       "xgb_grid_model_2                        0.182802\n",
       "xgb_grid_model_5                        0.183267\n",
       "xgb_grid_model_1                        0.186752\n",
       "xgb_grid_model_4                        0.187953"
      ]
     },
     "execution_count": 22,
     "metadata": {},
     "output_type": "execute_result"
    }
   ],
   "source": [
    "xgb_perf = pd.DataFrame.from_dict({x.model_id: x.logloss(valid = True) for x in all_xgb_models},\n",
    "                                  orient = \"index\")\n",
    "xgb_perf.sort_values(by = 0)"
   ]
  },
  {
   "cell_type": "markdown",
   "metadata": {},
   "source": [
    "## GLM"
   ]
  },
  {
   "cell_type": "code",
   "execution_count": 23,
   "metadata": {},
   "outputs": [],
   "source": [
    "from h2o.estimators.glm import H2OGeneralizedLinearEstimator"
   ]
  },
  {
   "cell_type": "code",
   "execution_count": 24,
   "metadata": {},
   "outputs": [],
   "source": [
    "default_glm_params = {\n",
    "    'lambda_search': True,\n",
    "    'family': \"binomial\"\n",
    "}"
   ]
  },
  {
   "cell_type": "markdown",
   "metadata": {},
   "source": [
    "Train grid search."
   ]
  },
  {
   "cell_type": "code",
   "execution_count": 25,
   "metadata": {},
   "outputs": [],
   "source": [
    "glm_search_params = {'alpha': [0.0, 0.2, 0.4, 0.6, 0.8, 1.0]}"
   ]
  },
  {
   "cell_type": "code",
   "execution_count": 26,
   "metadata": {},
   "outputs": [
    {
     "name": "stdout",
     "output_type": "stream",
     "text": [
      "glm Grid Build progress: |████████████████████████████████████████████████| 100%\n"
     ]
    }
   ],
   "source": [
    "glm_grid = H2OGridSearch(model=H2OGeneralizedLinearEstimator,\n",
    "                         grid_id='glm_grid',\n",
    "                         search_criteria=search_criteria,\n",
    "                         hyper_params=glm_search_params)\n",
    "glm_grid.train(x=x, y=target_col,\n",
    "               training_frame=train,\n",
    "               validation_frame=valid,\n",
    "               nfolds=nfolds,\n",
    "               seed=seed,\n",
    "               **default_glm_params)"
   ]
  },
  {
   "cell_type": "code",
   "execution_count": 27,
   "metadata": {},
   "outputs": [],
   "source": [
    "all_glm_models = [h2o.get_model(id) for id in glm_grid.get_grid().model_ids]"
   ]
  },
  {
   "cell_type": "code",
   "execution_count": 28,
   "metadata": {
    "scrolled": false
   },
   "outputs": [
    {
     "data": {
      "text/html": [
       "<div>\n",
       "<style scoped>\n",
       "    .dataframe tbody tr th:only-of-type {\n",
       "        vertical-align: middle;\n",
       "    }\n",
       "\n",
       "    .dataframe tbody tr th {\n",
       "        vertical-align: top;\n",
       "    }\n",
       "\n",
       "    .dataframe thead th {\n",
       "        text-align: right;\n",
       "    }\n",
       "</style>\n",
       "<table border=\"1\" class=\"dataframe\">\n",
       "  <thead>\n",
       "    <tr style=\"text-align: right;\">\n",
       "      <th></th>\n",
       "      <th>0</th>\n",
       "    </tr>\n",
       "  </thead>\n",
       "  <tbody>\n",
       "    <tr>\n",
       "      <th>glm_grid_model_2</th>\n",
       "      <td>0.105525</td>\n",
       "    </tr>\n",
       "    <tr>\n",
       "      <th>glm_grid_model_3</th>\n",
       "      <td>0.105549</td>\n",
       "    </tr>\n",
       "    <tr>\n",
       "      <th>glm_grid_model_5</th>\n",
       "      <td>0.105554</td>\n",
       "    </tr>\n",
       "    <tr>\n",
       "      <th>glm_grid_model_4</th>\n",
       "      <td>0.105718</td>\n",
       "    </tr>\n",
       "    <tr>\n",
       "      <th>glm_grid_model_1</th>\n",
       "      <td>0.106050</td>\n",
       "    </tr>\n",
       "  </tbody>\n",
       "</table>\n",
       "</div>"
      ],
      "text/plain": [
       "                         0\n",
       "glm_grid_model_2  0.105525\n",
       "glm_grid_model_3  0.105549\n",
       "glm_grid_model_5  0.105554\n",
       "glm_grid_model_4  0.105718\n",
       "glm_grid_model_1  0.106050"
      ]
     },
     "execution_count": 28,
     "metadata": {},
     "output_type": "execute_result"
    }
   ],
   "source": [
    "glm_perf = pd.DataFrame.from_dict({x.model_id: x.logloss(valid = True) for x in all_glm_models},\n",
    "                                  orient = \"index\")\n",
    "glm_perf.sort_values(by = 0)"
   ]
  },
  {
   "cell_type": "code",
   "execution_count": 29,
   "metadata": {},
   "outputs": [
    {
     "name": "stdout",
     "output_type": "stream",
     "text": [
      "H2O session _sid_bab9 closed.\n"
     ]
    }
   ],
   "source": [
    "h2o.cluster().shutdown()"
   ]
  },
  {
   "cell_type": "code",
   "execution_count": null,
   "metadata": {},
   "outputs": [],
   "source": []
  }
 ],
 "metadata": {
  "kernelspec": {
   "display_name": "Python 3",
   "language": "python",
   "name": "python3"
  },
  "language_info": {
   "codemirror_mode": {
    "name": "ipython",
    "version": 3
   },
   "file_extension": ".py",
   "mimetype": "text/x-python",
   "name": "python",
   "nbconvert_exporter": "python",
   "pygments_lexer": "ipython3",
   "version": "3.6.8"
  }
 },
 "nbformat": 4,
 "nbformat_minor": 4
}
